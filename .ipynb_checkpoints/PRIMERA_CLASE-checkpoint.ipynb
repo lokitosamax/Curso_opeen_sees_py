{
 "cells": [
  {
   "cell_type": "code",
   "execution_count": 1,
   "id": "77662f74",
   "metadata": {
    "hide_input": false
   },
   "outputs": [],
   "source": [
    "#IMPORTANDO LAS LIBRERIAS A USAR PARA EL ESTUDIO \n",
    "from numpy import*\n",
    "from scipy import*\n",
    "import matplotlib.pylab as plt\n",
    "from pylab import*\n",
    "from scipy.stats import*\n",
    "import pandas as pd"
   ]
  },
  {
   "cell_type": "code",
   "execution_count": 31,
   "id": "08e29ce1",
   "metadata": {
    "hide_input": true
   },
   "outputs": [],
   "source": [
    "def Espectro_E030(T,Z=0.45,U=1.50,S=1.00,Tp=0.4,Tl=2.5,R=1):\n",
    "    n=len(T)\n",
    "    C=[]\n",
    "    for i in range(n):\n",
    "        if T[i]<Tp:\n",
    "            C.append(2.5)\n",
    "        elif T[i]>=Tp and T[i]<=Tl:\n",
    "            C.append(2.5*(Tp/T[i]))\n",
    "        else:\n",
    "            C.append(2.5*Tp*Tl/(T[i]**2))\n",
    "            \n",
    "    A=[]\n",
    "    for i in range(n):\n",
    "        A.append(Z*U*C[i]*S/(R))\n",
    "    return(A)    \n",
    "        \n",
    "        "
   ]
  },
  {
   "cell_type": "code",
   "execution_count": 32,
   "id": "1cfa7830",
   "metadata": {},
   "outputs": [],
   "source": [
    "T=arange(0,10,0.02)"
   ]
  },
  {
   "cell_type": "code",
   "execution_count": 33,
   "id": "bc669217",
   "metadata": {},
   "outputs": [],
   "source": [
    "Ac=Espectro_E030(T,0.45,1.50,1.00,0.4,2.5,6)"
   ]
  },
  {
   "cell_type": "code",
   "execution_count": 35,
   "id": "bad02d67",
   "metadata": {},
   "outputs": [
    {
     "data": {
      "image/png": "[encoded data removed]",
      "text/plain": [
       "<Figure size 432x288 with 1 Axes>"
      ]
     },
     "metadata": {
      "needs_background": "light"
     },
     "output_type": "display_data"
    }
   ],
   "source": [
    "plot(T,Ac)\n",
    "title('ESPECTRO DE DISEÑO E030')\n",
    "xlabel('Ti[s]')\n",
    "ylabel('A[m/s2]')\n",
    "grid(True)\n",
    "show()"
   ]
  },
  {
   "cell_type": "code",
   "execution_count": 36,
   "id": "aa4d2418",
   "metadata": {},
   "outputs": [
    {
     "name": "stdout",
     "output_type": "stream",
     "text": [
      "hola mundo0\n",
      "hola mundo1\n",
      "hola mundo2\n",
      "hola mundo3\n",
      "hola mundo4\n",
      "hola mundo5\n",
      "hola mundo6\n",
      "hola mundo7\n",
      "hola mundo8\n",
      "hola mundo9\n",
      "hola mundo10\n",
      "hola mundo11\n",
      "hola mundo12\n",
      "hola mundo13\n",
      "hola mundo14\n",
      "hola mundo15\n",
      "hola mundo16\n",
      "hola mundo17\n",
      "hola mundo18\n",
      "hola mundo19\n",
      "hola mundo20\n",
      "hola mundo21\n",
      "hola mundo22\n",
      "hola mundo23\n",
      "hola mundo24\n",
      "hola mundo25\n",
      "hola mundo26\n",
      "hola mundo27\n",
      "hola mundo28\n",
      "hola mundo29\n",
      "hola mundo30\n",
      "hola mundo31\n",
      "hola mundo32\n",
      "hola mundo33\n",
      "hola mundo34\n",
      "hola mundo35\n",
      "hola mundo36\n",
      "hola mundo37\n",
      "hola mundo38\n",
      "hola mundo39\n",
      "hola mundo40\n",
      "hola mundo41\n",
      "hola mundo42\n",
      "hola mundo43\n",
      "hola mundo44\n",
      "hola mundo45\n",
      "hola mundo46\n",
      "hola mundo47\n",
      "hola mundo48\n",
      "hola mundo49\n",
      "hola mundo50\n",
      "hola mundo51\n",
      "hola mundo52\n",
      "hola mundo53\n",
      "hola mundo54\n",
      "hola mundo55\n",
      "hola mundo56\n",
      "hola mundo57\n",
      "hola mundo58\n",
      "hola mundo59\n",
      "hola mundo60\n",
      "hola mundo61\n",
      "hola mundo62\n",
      "hola mundo63\n",
      "hola mundo64\n",
      "hola mundo65\n",
      "hola mundo66\n",
      "hola mundo67\n",
      "hola mundo68\n",
      "hola mundo69\n",
      "hola mundo70\n",
      "hola mundo71\n",
      "hola mundo72\n",
      "hola mundo73\n",
      "hola mundo74\n",
      "hola mundo75\n",
      "hola mundo76\n",
      "hola mundo77\n",
      "hola mundo78\n",
      "hola mundo79\n",
      "hola mundo80\n",
      "hola mundo81\n",
      "hola mundo82\n",
      "hola mundo83\n",
      "hola mundo84\n",
      "hola mundo85\n",
      "hola mundo86\n",
      "hola mundo87\n",
      "hola mundo88\n",
      "hola mundo89\n",
      "hola mundo90\n",
      "hola mundo91\n",
      "hola mundo92\n",
      "hola mundo93\n",
      "hola mundo94\n",
      "hola mundo95\n",
      "hola mundo96\n",
      "hola mundo97\n",
      "hola mundo98\n",
      "hola mundo99\n"
     ]
    }
   ],
   "source": [
    "for i in range(100):\n",
    "    print('hola mundo'+str(i))"
   ]
  },
  {
   "cell_type": "code",
   "execution_count": null,
   "id": "de7300ec",
   "metadata": {},
   "outputs": [],
   "source": []
  }
 ],
 "metadata": {
  "hide_input": false,
  "kernelspec": {
   "display_name": "Python 3 (ipykernel)",
   "language": "python",
   "name": "python3"
  },
  "language_info": {
   "codemirror_mode": {
    "name": "ipython",
    "version": 3
   },
   "file_extension": ".py",
   "mimetype": "text/x-python",
   "name": "python",
   "nbconvert_exporter": "python",
   "pygments_lexer": "ipython3",
   "version": "3.8.10"
  },
  "toc": {
   "base_numbering": 1,
   "nav_menu": {},
   "number_sections": true,
   "sideBar": true,
   "skip_h1_title": false,
   "title_cell": "Table of Contents",
   "title_sidebar": "Contents",
   "toc_cell": false,
   "toc_position": {},
   "toc_section_display": true,
   "toc_window_display": false
  },
  "varInspector": {
   "cols": {
    "lenName": 16,
    "lenType": 16,
    "lenVar": 40
   },
   "kernels_config": {
    "python": {
     "delete_cmd_postfix": "",
     "delete_cmd_prefix": "del ",
     "library": "var_list.py",
     "varRefreshCmd": "print(var_dic_list())"
    },
    "r": {
     "delete_cmd_postfix": ") ",
     "delete_cmd_prefix": "rm(",
     "library": "var_list.r",
     "varRefreshCmd": "cat(var_dic_list()) "
    }
   },
   "types_to_exclude": [
    "module",
    "function",
    "builtin_function_or_method",
    "instance",
    "_Feature"
   ],
   "window_display": false
  }
 },
 "nbformat": 4,
 "nbformat_minor": 5
}
